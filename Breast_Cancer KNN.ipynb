{
 "cells": [
  {
   "cell_type": "markdown",
   "id": "33cec8bf-8d3e-41c4-958b-f150c7043404",
   "metadata": {},
   "source": [
    "# Breast Cancer Predection Using KNN"
   ]
  },
  {
   "cell_type": "code",
   "execution_count": 2,
   "id": "6b2cf84b-612d-4119-a137-4b7f27904a73",
   "metadata": {},
   "outputs": [],
   "source": [
    "# Importing dataset from sklearn package\n",
    "from sklearn.datasets import load_breast_cancer"
   ]
  },
  {
   "cell_type": "code",
   "execution_count": 4,
   "id": "a844a9df-c44d-4034-acf6-e2046c43882a",
   "metadata": {},
   "outputs": [
    {
     "data": {
      "text/plain": [
       "sklearn.utils.Bunch"
      ]
     },
     "execution_count": 4,
     "metadata": {},
     "output_type": "execute_result"
    }
   ],
   "source": [
    "# Featching data from load_breast_cancer\n",
    "cancer=load_breast_cancer()\n",
    "type(cancer) # data import from sklearn package is of Bunch d-type"
   ]
  },
  {
   "cell_type": "code",
   "execution_count": null,
   "id": "77173bfe-c4a4-465d-8be7-56f5581c77e3",
   "metadata": {},
   "outputs": [],
   "source": [
    "print(cancer.DESCR) # Description about the data"
   ]
  },
  {
   "cell_type": "code",
   "execution_count": 13,
   "id": "8a4729d7-a2dc-49d4-922b-ac4d654777b5",
   "metadata": {},
   "outputs": [
    {
     "data": {
      "text/plain": [
       "array(['mean radius', 'mean texture', 'mean perimeter', 'mean area',\n",
       "       'mean smoothness', 'mean compactness', 'mean concavity',\n",
       "       'mean concave points', 'mean symmetry', 'mean fractal dimension',\n",
       "       'radius error', 'texture error', 'perimeter error', 'area error',\n",
       "       'smoothness error', 'compactness error', 'concavity error',\n",
       "       'concave points error', 'symmetry error',\n",
       "       'fractal dimension error', 'worst radius', 'worst texture',\n",
       "       'worst perimeter', 'worst area', 'worst smoothness',\n",
       "       'worst compactness', 'worst concavity', 'worst concave points',\n",
       "       'worst symmetry', 'worst fractal dimension'], dtype='<U23')"
      ]
     },
     "execution_count": 13,
     "metadata": {},
     "output_type": "execute_result"
    }
   ],
   "source": [
    "# To get feature and target name in an array\n",
    "cancer.target_names\n",
    "cancer.feature_names"
   ]
  },
  {
   "cell_type": "code",
   "execution_count": 65,
   "id": "15a58c9e-7d89-4fac-aebd-baca4e57968d",
   "metadata": {},
   "outputs": [
    {
     "data": {
      "text/plain": [
       "2"
      ]
     },
     "execution_count": 65,
     "metadata": {},
     "output_type": "execute_result"
    }
   ],
   "source": [
    "X = cancer.data    # Getting feature matrix\n",
    "y = cancer.target    # Getting target\n"
   ]
  },
  {
   "cell_type": "code",
   "execution_count": 21,
   "id": "d014789d-4059-4cef-b599-a5d8db561d26",
   "metadata": {},
   "outputs": [],
   "source": [
    "from sklearn.feature_selection import f_classif # f_classif for getting best feature out of feature matrix(Annova Test)\n",
    "import numpy as np    # importing NumPy package \n",
    "np.set_printoptions(formatter={'float_kind':'{:f}'.format}) # converting print options scientific notation to float "
   ]
  },
  {
   "cell_type": "code",
   "execution_count": 23,
   "id": "8aa3c04d-be42-4c32-90d1-da2613a73cb0",
   "metadata": {},
   "outputs": [
    {
     "name": "stdout",
     "output_type": "stream",
     "text": [
      "[646.981021 118.096059 697.235272 573.060747 83.651123 313.233079\n",
      " 533.793126 861.676020 69.527444 0.093459 268.840327 0.039095 253.897392\n",
      " 243.651586 2.557968 53.247339 39.014482 113.262760 0.024117 3.468275\n",
      " 860.781707 149.596905 897.944219 661.600206 122.472880 304.341063\n",
      " 436.691939 964.385393 118.860232 66.443961]\n"
     ]
    }
   ],
   "source": [
    "svalue, pvalue = f_classif(X,y) # f_classif() will give svalue and p value of annova test\n",
    "print(svalue) # svalue will determine how well the feature is impacting the target (higher the value highr the impact)"
   ]
  },
  {
   "cell_type": "code",
   "execution_count": 47,
   "id": "bc779645-7a4a-43ef-85bf-83a413468bab",
   "metadata": {},
   "outputs": [
    {
     "data": {
      "text/plain": [
       "(array([ 0,  1,  2,  3,  5,  6,  7, 10, 12, 13, 17, 20, 21, 22, 23, 24, 25,\n",
       "        26, 27, 28], dtype=int64),)"
      ]
     },
     "execution_count": 47,
     "metadata": {},
     "output_type": "execute_result"
    }
   ],
   "source": [
    "np.where(svalue>100) # np.where() to index vaule of true value\n"
   ]
  },
  {
   "cell_type": "code",
   "execution_count": 52,
   "id": "62a0aaa8-7daf-490f-adbf-8c9368730957",
   "metadata": {},
   "outputs": [
    {
     "data": {
      "text/plain": [
       "(569, 20)"
      ]
     },
     "execution_count": 52,
     "metadata": {},
     "output_type": "execute_result"
    }
   ],
   "source": [
    "# selecting all rows and true value columnfrom max_val\n",
    "X_new = X[:,[0,  1,  2,  3,  5,  6,  7, 10, 12, 13, 17, 20, 21, 22, 23, 24, 25, 26, 27, 28]]\n",
    "X_new.shape\n"
   ]
  },
  {
   "cell_type": "code",
   "execution_count": 66,
   "id": "c860c26b-7ea9-4711-9ff2-ac9ccddea68b",
   "metadata": {},
   "outputs": [],
   "source": [
    " # Balancing data using SMOTE(Synthetic Minority Oversampling Technuque)\n",
    "from imblearn.over_sampling import SMOTE\n",
    "smt = SMOTE()\n",
    "X, y = smt.fit_resample(X_new,y)"
   ]
  },
  {
   "cell_type": "code",
   "execution_count": 68,
   "id": "e4b3d017-3864-4139-9519-460b00094695",
   "metadata": {},
   "outputs": [
    {
     "data": {
      "text/plain": [
       "(714, 20)"
      ]
     },
     "execution_count": 68,
     "metadata": {},
     "output_type": "execute_result"
    }
   ],
   "source": [
    "X.shape\n",
    "#y.shape"
   ]
  },
  {
   "cell_type": "code",
   "execution_count": 70,
   "id": "d1d91a6a-7ec1-4ba1-b64c-f1c35e60b9fd",
   "metadata": {},
   "outputs": [],
   "source": [
    "# Feature Scaling\n",
    "from sklearn.preprocessing import MinMaxScaler\n",
    "scaler = MinMaxScaler()\n",
    "X_new = scaler.fit_transform(X)"
   ]
  },
  {
   "cell_type": "code",
   "execution_count": 76,
   "id": "f21af395-54f7-40a8-add6-39fd77366521",
   "metadata": {},
   "outputs": [],
   "source": [
    "# Dividing data into Train-Test \n",
    "from sklearn.model_selection import train_test_split\n",
    "X_train,X_test,y_train,y_test = train_test_split(X_new,y,random_state=10)"
   ]
  },
  {
   "cell_type": "code",
   "execution_count": null,
   "id": "462aa313-76ec-4635-80eb-2fa91e93e3e0",
   "metadata": {},
   "outputs": [],
   "source": []
  },
  {
   "cell_type": "code",
   "execution_count": null,
   "id": "ded6cd38-f295-4d61-a9ca-32c86e7964df",
   "metadata": {},
   "outputs": [],
   "source": [
    "# Finding best parameter for model\n",
    "from sklearn.model_selection import GridSearchCV\n",
    "from sklearn.neighbors import KNeighborsClassifier\n",
    "model=KNeighborsClassifier()\n",
    "gsv = GridSearchCV(model,param_grid={'n_neighbors':[3,4,5,6,7],'metric':['minkowski'],'p':[2,3,4,5,6,7]},cv=5)\n",
    "gsv.fit(X_new,y)\n",
    "print(gsv.best_score_)\n",
    "print(gsv.best_params_)\n",
    "# 0.9691716733970255\n",
    "# {'metric': 'minkowski', 'n_neighbors': 5, 'p': 2}"
   ]
  },
  {
   "cell_type": "code",
   "execution_count": 78,
   "id": "48735e62-b3fe-41b8-aad9-63cf6106d28d",
   "metadata": {},
   "outputs": [
    {
     "data": {
      "text/plain": [
       "KNeighborsClassifier()"
      ]
     },
     "execution_count": 78,
     "metadata": {},
     "output_type": "execute_result"
    }
   ],
   "source": [
    "# Model Selection - KNN\n",
    "from sklearn.neighbors import KNeighborsClassifier\n",
    "model = KNeighborsClassifier(n_neighbors=5, metric= 'minkowski', )\n",
    "model.fit(X_train,y_train)"
   ]
  },
  {
   "cell_type": "code",
   "execution_count": 79,
   "id": "4e8f27e1-31c5-4756-a33f-145eb0a2c9c6",
   "metadata": {},
   "outputs": [
    {
     "name": "stdout",
     "output_type": "stream",
     "text": [
      "0.9775700934579439\n",
      "0.9832402234636871\n"
     ]
    },
    {
     "name": "stderr",
     "output_type": "stream",
     "text": [
      "C:\\Users\\rajni\\anaconda3\\lib\\site-packages\\sklearn\\neighbors\\_classification.py:228: FutureWarning: Unlike other reduction functions (e.g. `skew`, `kurtosis`), the default behavior of `mode` typically preserves the axis it acts along. In SciPy 1.11.0, this behavior will change: the default value of `keepdims` will become False, the `axis` over which the statistic is taken will be eliminated, and the value None will no longer be accepted. Set `keepdims` to True or False to avoid this warning.\n",
      "  mode, _ = stats.mode(_y[neigh_ind, k], axis=1)\n",
      "C:\\Users\\rajni\\anaconda3\\lib\\site-packages\\sklearn\\neighbors\\_classification.py:228: FutureWarning: Unlike other reduction functions (e.g. `skew`, `kurtosis`), the default behavior of `mode` typically preserves the axis it acts along. In SciPy 1.11.0, this behavior will change: the default value of `keepdims` will become False, the `axis` over which the statistic is taken will be eliminated, and the value None will no longer be accepted. Set `keepdims` to True or False to avoid this warning.\n",
      "  mode, _ = stats.mode(_y[neigh_ind, k], axis=1)\n"
     ]
    }
   ],
   "source": [
    "print(model.score(X_train,y_train))\n",
    "\n",
    "print(model.score(X_test,y_test))"
   ]
  },
  {
   "cell_type": "code",
   "execution_count": null,
   "id": "71bdfb87-9dc3-4e9d-b27b-5c47913359cd",
   "metadata": {},
   "outputs": [],
   "source": []
  }
 ],
 "metadata": {
  "kernelspec": {
   "display_name": "Python 3 (ipykernel)",
   "language": "python",
   "name": "python3"
  },
  "language_info": {
   "codemirror_mode": {
    "name": "ipython",
    "version": 3
   },
   "file_extension": ".py",
   "mimetype": "text/x-python",
   "name": "python",
   "nbconvert_exporter": "python",
   "pygments_lexer": "ipython3",
   "version": "3.9.15"
  }
 },
 "nbformat": 4,
 "nbformat_minor": 5
}
